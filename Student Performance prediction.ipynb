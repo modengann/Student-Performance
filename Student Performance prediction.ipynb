{
 "cells": [
  {
   "cell_type": "markdown",
   "id": "88614db2",
   "metadata": {},
   "source": [
    "# Student Performance\n",
    "In this assignment, you will be given access to set of training data from UC Irvine Machine Learning Repository. The data given relates to student performance at a secondary education of two Portuguese schools. The data attributes include student grades, demographic, social and school related features) and it was collected by using school reports and questionnaires. \n",
    "\n",
    "This set of data is slightly different from previous datasets because it has two potential targets for you to predict: first period grade and final grade. The first period grade is a categorical variable (Pass or Fail) and the final grade is numeric (1-20). Your goal is to create accurate predictions for both using two models. Note: you cannot use the final grade to predict the first period grade or vice versa. Just in case you were thinking about that!"
   ]
  },
  {
   "cell_type": "markdown",
   "id": "2a4b27b9",
   "metadata": {},
   "source": [
    "## Information about the dataset\n",
    "You can find a full explanation of the dataset here: https://archive.ics.uci.edu/dataset/320/student+performance\n",
    "The variables table might be particularly helpful for you."
   ]
  },
  {
   "cell_type": "markdown",
   "id": "8d3610d9",
   "metadata": {},
   "source": [
    "## Expectations\n",
    "I will leave most of the decision-making up to you. You should:\n",
    "1. Include text boxes explaining any important decisions you have made within your code. For example, changing a hyperparameter, dropping a column, one-hot encoding a column, etc. This is not an exhaustive list. This should be a trail of bread crumbs that someone else could follow.\n",
    "2. Include a RMSE with % of standard deviation and/or an accuracy % at the bottom of your analyses. Meaning when you finish any regression, you should include a RMSE with % of standard deviation. When you finish a classification, you should include an accuracy %."
   ]
  },
  {
   "cell_type": "code",
   "execution_count": 45,
   "id": "cef7f8c0",
   "metadata": {},
   "outputs": [],
   "source": [
    "import pandas as pd\n",
    "\n",
    "portugal_data = pd.read_csv(\"https://raw.githubusercontent.com/modengann/Data-sets/master/Portugal_school_data.csv\")\n",
    "portugal_data.columns\n",
    "y_final_grade = portugal_data[\"G3\"]\n",
    "y_first_period_grade = portugal_data[\"G1\"]\n",
    "X = portugal_data.drop([\"G3\", \"G1\"], axis = 1)"
   ]
  }
 ],
 "metadata": {
  "kernelspec": {
   "display_name": "Python 3 (ipykernel)",
   "language": "python",
   "name": "python3"
  },
  "language_info": {
   "codemirror_mode": {
    "name": "ipython",
    "version": 3
   },
   "file_extension": ".py",
   "mimetype": "text/x-python",
   "name": "python",
   "nbconvert_exporter": "python",
   "pygments_lexer": "ipython3",
   "version": "3.9.13"
  }
 },
 "nbformat": 4,
 "nbformat_minor": 5
}
